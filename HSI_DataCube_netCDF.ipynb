{
 "cells": [
  {
   "cell_type": "code",
   "execution_count": null,
   "id": "9b904ae4",
   "metadata": {},
   "outputs": [],
   "source": [
    "import netCDF4\n",
    "import matplotlib.pyplot as plt\n",
    "from scipy.ndimage import rotate\n",
    "\n",
    "\n",
    "# Open the netCDF file using the netCDF4 library\n",
    "ncfile = netCDF4.Dataset(\"C:/Users/al-na/Documents/2022_09_28/2022_09_28-02_58_11.nc\", \"r\") #path to your datacube *netCDF file\n",
    "\n",
    "data = ncfile.variables[\"datacube\"][:] # datacube is the variable that contains the wavelengths dimension along with the two (x,y) spatial dimensions \n",
    "\n",
    "slice = data[19,:,:] # plotting the spatial dimensions for a wavelength stored in #19 which might be 1200 nm, for example!\n",
    "\n",
    "# Plot the slice using imshow\n",
    "slice = np.flip(slice, axis=1)\n",
    "\n",
    "# Rotate the slice by 90 degrees in case you need to rotate your image \n",
    "slice_rotated = rotate(slice, 180)\n",
    "\n",
    "# Plot the slice using imshow\n",
    "plt.figure(figsize=(15, 15))\n",
    "plt.xlabel(\"Spatial dimension (640 px)\", fontsize=20)\n",
    "plt.ylabel(\"Spatial dimension (512 px)\", fontsize=20)\n",
    "plt.imshow(slice_rotated,vmin=14, vmax=26, cmap=\"viridis\")\n",
    "\n",
    "# Show the plot\n",
    "plt.show()"
   ]
  }
 ],
 "metadata": {
  "kernelspec": {
   "display_name": "Python 3 (ipykernel)",
   "language": "python",
   "name": "python3"
  },
  "language_info": {
   "codemirror_mode": {
    "name": "ipython",
    "version": 3
   },
   "file_extension": ".py",
   "mimetype": "text/x-python",
   "name": "python",
   "nbconvert_exporter": "python",
   "pygments_lexer": "ipython3",
   "version": "3.9.7"
  }
 },
 "nbformat": 4,
 "nbformat_minor": 5
}
