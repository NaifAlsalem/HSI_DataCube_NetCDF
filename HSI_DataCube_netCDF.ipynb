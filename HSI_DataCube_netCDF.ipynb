{
 "cells": [
  {
   "cell_type": "code",
   "execution_count": null,
   "id": "8827365d",
   "metadata": {},
   "outputs": [],
   "source": [
    "import netCDF4\n",
    "import matplotlib.pyplot as plt\n",
    "from scipy.ndimage import rotate\n",
    "import xarray as xr\n"
   ]
  },
  {
   "cell_type": "code",
   "execution_count": null,
   "id": "cb34bb23",
   "metadata": {},
   "outputs": [],
   "source": [
    "\n",
    "\n",
    "# Open the netCDF file using the netCDF4 library\n",
    "ncfile = netCDF4.Dataset(\"C:/Users/al-na/Documents/2022_09_28/2022_09_28-02_58_11.nc\", \"r\") #path to your datacube *netCDF file\n",
    "\n",
    "data = ncfile.variables[\"datacube\"][:] # datacube is the variable that contains the wavelengths dimension along with the two (x,y) spatial dimensions \n",
    "\n",
    "slice = data[19,:,:] # plotting the spatial dimensions for a wavelength stored in #19 which might be 1200 nm, for example!\n",
    "\n",
    "# Plot the slice using imshow\n",
    "slice = np.flip(slice, axis=1)\n",
    "\n",
    "# Rotate the slice by 180 degrees in case you need to rotate your image \n",
    "slice_rotated = rotate(slice, 180)\n",
    "\n",
    "# Plot the slice using imshow\n",
    "plt.figure(figsize=(15, 15))\n",
    "plt.xlabel(\"Spatial dimension (640 px)\", fontsize=20)\n",
    "plt.ylabel(\"Spatial dimension (512 px)\", fontsize=20)\n",
    "plt.imshow(slice_rotated,vmin=14, vmax=26, cmap=\"viridis\")\n",
    "\n",
    "# Show the plot\n",
    "plt.show()"
   ]
  },
  {
   "cell_type": "code",
   "execution_count": null,
   "id": "96d87eb0",
   "metadata": {},
   "outputs": [],
   "source": [
    "#This is another way to read/plot the data-cube image and extract spectral data from each pixel \n",
    "\n",
    "fn = 'C:/Users/al-na/Documents/2022_09_28/2022_09_28-02_58_11.nc' #path to the data cube file \n",
    "xr= xr.open_dataset(fn)"
   ]
  },
  {
   "cell_type": "code",
   "execution_count": null,
   "id": "747349e0",
   "metadata": {},
   "outputs": [],
   "source": [
    "xr  #shows you what is inside the data-cube file"
   ]
  },
  {
   "cell_type": "code",
   "execution_count": null,
   "id": "0e1c1a29",
   "metadata": {},
   "outputs": [],
   "source": [
    "#these lines print info about the dimensions, attributes and coordinates inside the data-cube file \n",
    "print(xr.dims)\n",
    "print(xr.attrs)\n",
    "print(xr.coords)"
   ]
  },
  {
   "cell_type": "code",
   "execution_count": null,
   "id": "e5b7a7f8",
   "metadata": {},
   "outputs": [],
   "source": [
    "#This line shows the details stored in variable: datacube, inside the data-cube file. (this is based on how variables stored \n",
    "#in the *netCDF file). \n",
    "\n",
    "a=xr.variables['datacube']\n",
    "a"
   ]
  },
  {
   "cell_type": "code",
   "execution_count": null,
   "id": "062c750e",
   "metadata": {},
   "outputs": [],
   "source": [
    "#set the figure size \n",
    "fig = plt.figure()\n",
    "f = plt.figure()\n",
    "f.set_figwidth(9)\n",
    "f.set_figheight(6)\n",
    "\n",
    "\n",
    "#slice from here and plot specific spectral profile \n",
    "line1=xr.datacube[:, 266, 100].plot(color=\"red\", label='Pixel 100') #plotting the spectral profile stored in pixel# 100\n",
    "#line2=xr.datacube[:, 350, 10].plot(color=\"blue\", label='Pixel 445')\n",
    "plt.legend()\n",
    "#plt.xlim([100, 200])\n",
    "plt.xlabel(\"Wavelength (nm)\", fontsize=14)\n",
    "plt.ylabel(\"Radiance (\\u03BCW/cm\\u00b2/sr/nm)\", fontsize=14)\n",
    "plt.xticks(fontsize=12)\n",
    "plt.yticks(fontsize=12)\n",
    "plt.title('')\n",
    "plt.grid()\n",
    "\n",
    "#plt.savefig('insert your path here',bbox_inches='tight', dpi=200)"
   ]
  }
 ],
 "metadata": {
  "kernelspec": {
   "display_name": "Python 3 (ipykernel)",
   "language": "python",
   "name": "python3"
  },
  "language_info": {
   "codemirror_mode": {
    "name": "ipython",
    "version": 3
   },
   "file_extension": ".py",
   "mimetype": "text/x-python",
   "name": "python",
   "nbconvert_exporter": "python",
   "pygments_lexer": "ipython3",
   "version": "3.9.7"
  }
 },
 "nbformat": 4,
 "nbformat_minor": 5
}
